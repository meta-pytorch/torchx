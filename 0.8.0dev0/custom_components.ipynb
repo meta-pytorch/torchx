{
 "cells": [
  {
   "cell_type": "markdown",
   "id": "95807ddd",
   "metadata": {},
   "source": [
    "# Custom Components\n",
    "\n",
    "This is a guide on how to build a simple app and custom component spec and\n",
    "launch it via two different schedulers.\n",
    "\n",
    "See the [Quickstart Guide](quickstart.md) for installation and basic usage.\n",
    "\n",
    "## Builtins\n",
    "\n",
    "Before writing a custom component, check if any of the builtin components\n",
    "satisfy your needs. TorchX provides a number of builtin components with premade\n",
    "images. You can discover them via:"
   ]
  },
  {
   "cell_type": "code",
   "execution_count": 1,
   "id": "0d4020f7",
   "metadata": {
    "execution": {
     "iopub.execute_input": "2025-08-21T21:14:57.902710Z",
     "iopub.status.busy": "2025-08-21T21:14:57.902523Z",
     "iopub.status.idle": "2025-08-21T21:14:59.083418Z",
     "shell.execute_reply": "2025-08-21T21:14:59.082660Z"
    }
   },
   "outputs": [
    {
     "name": "stdout",
     "output_type": "stream",
     "text": [
      "Found 11 builtin components:\n",
      "  1. dist.ddp\n",
      "  2. dist.spmd\n",
      "  3. metrics.tensorboard\n",
      "  4. serve.torchs"
     ]
    },
    {
     "name": "stdout",
     "output_type": "stream",
     "text": [
      "erve\n",
      "  5. utils.binary\n",
      "  6. utils.booth\n",
      "  7. utils.copy\n",
      "  8. utils.echo\n",
      "  9. utils.python\n",
      " 10. utils"
     ]
    },
    {
     "name": "stdout",
     "output_type": "stream",
     "text": [
      ".sh\n",
      " 11. utils.touch\n"
     ]
    }
   ],
   "source": [
    "%%sh\n",
    "torchx builtins"
   ]
  },
  {
   "cell_type": "markdown",
   "id": "fee2bd5e",
   "metadata": {},
   "source": [
    "You can use these either from the CLI, from a pipeline or programmatically like\n",
    "you would any other component."
   ]
  },
  {
   "cell_type": "code",
   "execution_count": 2,
   "id": "f54b7259",
   "metadata": {
    "execution": {
     "iopub.execute_input": "2025-08-21T21:14:59.086003Z",
     "iopub.status.busy": "2025-08-21T21:14:59.085799Z",
     "iopub.status.idle": "2025-08-21T21:17:45.050612Z",
     "shell.execute_reply": "2025-08-21T21:17:45.049873Z"
    }
   },
   "outputs": [
    {
     "name": "stderr",
     "output_type": "stream",
     "text": [
      "torchx 2025-08-21 21:15:00 INFO     Tracker configurations: {}\n"
     ]
    },
    {
     "name": "stderr",
     "output_type": "stream",
     "text": [
      "torchx 2025-08-21 21:15:00 INFO     Checking for changes in workspace `file:///home/runner/work/torc"
     ]
    },
    {
     "name": "stderr",
     "output_type": "stream",
     "text": [
      "hx/torchx/docs/source`...\n",
      "torchx 2025-08-21 21:15:00 INFO     To disable workspaces pass: --workspac"
     ]
    },
    {
     "name": "stderr",
     "output_type": "stream",
     "text": [
      "e=\"\" from CLI or workspace=None programmatically.\n"
     ]
    },
    {
     "name": "stderr",
     "output_type": "stream",
     "text": [
      "torchx 2025-08-21 21:15:00 INFO     Workspace `file:///home/runner/work/torchx/torchx/docs/source` r"
     ]
    },
    {
     "name": "stderr",
     "output_type": "stream",
     "text": [
      "esolved to filesystem path `/home/runner/work/torchx/torchx/docs/source`\n"
     ]
    },
    {
     "name": "stderr",
     "output_type": "stream",
     "text": [
      "torchx 2025-08-21 21:17:30 INFO     Building workspace docker image (this may take a while)...\n"
     ]
    },
    {
     "name": "stderr",
     "output_type": "stream",
     "text": [
      "torchx 2025-08-21 21:17:30 INFO     Step 1/4 : ARG IMAGE\n"
     ]
    },
    {
     "name": "stderr",
     "output_type": "stream",
     "text": [
      "torchx 2025-08-21 21:17:30 INFO     Step 2/4 : FROM $IMAGE\n"
     ]
    },
    {
     "name": "stderr",
     "output_type": "stream",
     "text": [
      "torchx 2025-08-21 21:17:30 INFO      ---> 51733e6b37e2\n",
      "torchx 2025-08-21 21:17:30 INFO     Step 3/4 "
     ]
    },
    {
     "name": "stderr",
     "output_type": "stream",
     "text": [
      ": COPY . .\n"
     ]
    },
    {
     "name": "stderr",
     "output_type": "stream",
     "text": [
      "torchx 2025-08-21 21:17:37 INFO      ---> 3350a878adc2\n"
     ]
    },
    {
     "name": "stderr",
     "output_type": "stream",
     "text": [
      "torchx 2025-08-21 21:17:37 INFO     Step 4/4 : LABEL torchx.pytorch.org/version=0.8.0dev0\n"
     ]
    },
    {
     "name": "stderr",
     "output_type": "stream",
     "text": [
      "torchx 2025-08-21 21:17:37 INFO      ---> Running in 0e2a1a433b74\n"
     ]
    },
    {
     "name": "stderr",
     "output_type": "stream",
     "text": [
      "torchx 2025-08-21 21:17:43 INFO      ---> Removed intermediate container 0e2a1a433b74\n"
     ]
    },
    {
     "name": "stderr",
     "output_type": "stream",
     "text": [
      "torchx 2025-08-21 21:17:43 INFO      ---> 8ca7b21c5acd\n"
     ]
    },
    {
     "name": "stderr",
     "output_type": "stream",
     "text": [
      "torchx 2025-08-21 21:17:43 INFO     [Warning] One or more build-args [WORKSPACE] were not consumed\n"
     ]
    },
    {
     "name": "stderr",
     "output_type": "stream",
     "text": [
      "torchx 2025-08-21 21:17:43 INFO     Successfully built 8ca7b21c5acd\n"
     ]
    },
    {
     "name": "stderr",
     "output_type": "stream",
     "text": [
      "torchx 2025-08-21 21:17:43 INFO     Built new image `sha256:8ca7b21c5acd74c3e5eaf5843610231fd0aa22e5"
     ]
    },
    {
     "name": "stderr",
     "output_type": "stream",
     "text": [
      "a6a79a830f38547e8ff136bc` based on original image `ghcr.io/pytorch/torchx:0.8.0dev0` and changes in "
     ]
    },
    {
     "name": "stderr",
     "output_type": "stream",
     "text": [
      "workspace `file:///home/runner/work/torchx/torchx/docs/source` for role[0]=echo.\n"
     ]
    },
    {
     "name": "stderr",
     "output_type": "stream",
     "text": [
      "torchx 2025-08-21 21:17:44 INFO     Waiting for the app to finish...\n"
     ]
    },
    {
     "name": "stderr",
     "output_type": "stream",
     "text": [
      "torchx 2025-08-21 21:17:45 INFO     Job finished: SUCCEEDED\n"
     ]
    },
    {
     "name": "stderr",
     "output_type": "stream",
     "text": [
      "echo/0 Hello :)\n"
     ]
    },
    {
     "name": "stdout",
     "output_type": "stream",
     "text": [
      "local_docker://torchx/echo-kc1m67xb4bbhcc\n"
     ]
    }
   ],
   "source": [
    "%%sh\n",
    "torchx run utils.echo --msg \"Hello :)\""
   ]
  },
  {
   "cell_type": "markdown",
   "id": "7401cd4f",
   "metadata": {},
   "source": [
    "## Hello World\n",
    "\n",
    "Lets start off with writing a simple \"Hello World\" python app. This is just a\n",
    "normal python program and can contain anything you'd like.\n",
    "\n",
    "<div class=\"admonition note\">\n",
    "<div class=\"admonition-title\">Note</div>\n",
    "This example uses Jupyter Notebook `%%writefile` to create local files for\n",
    "example purposes. Under normal usage you would have these as standalone files.\n",
    "</div>"
   ]
  },
  {
   "cell_type": "code",
   "execution_count": 3,
   "id": "9319a6fa",
   "metadata": {
    "execution": {
     "iopub.execute_input": "2025-08-21T21:17:45.053013Z",
     "iopub.status.busy": "2025-08-21T21:17:45.052805Z",
     "iopub.status.idle": "2025-08-21T21:17:45.057004Z",
     "shell.execute_reply": "2025-08-21T21:17:45.056375Z"
    }
   },
   "outputs": [
    {
     "name": "stdout",
     "output_type": "stream",
     "text": [
      "Writing my_app.py\n"
     ]
    }
   ],
   "source": [
    "%%writefile my_app.py\n",
    "\n",
    "import sys\n",
    "import argparse\n",
    "\n",
    "def main(user: str) -> None:\n",
    "    print(f\"Hello, {user}!\")\n",
    "\n",
    "if __name__ == \"__main__\":\n",
    "    parser = argparse.ArgumentParser(\n",
    "        description=\"Hello world app\"\n",
    "    )\n",
    "    parser.add_argument(\n",
    "        \"--user\",\n",
    "        type=str,\n",
    "        help=\"the person to greet\",\n",
    "        required=True,\n",
    "    )\n",
    "    args = parser.parse_args(sys.argv[1:])\n",
    "\n",
    "    main(args.user)"
   ]
  },
  {
   "cell_type": "markdown",
   "id": "664a2b07",
   "metadata": {},
   "source": [
    "Now that we have an app we can write the component file for it. This function\n",
    "allows us to reuse and share our app in a user friendly way.\n",
    "\n",
    "We can use this component from the `torchx` cli or programmatically as part of a\n",
    "pipeline."
   ]
  },
  {
   "cell_type": "code",
   "execution_count": 4,
   "id": "7229bad8",
   "metadata": {
    "execution": {
     "iopub.execute_input": "2025-08-21T21:17:45.058952Z",
     "iopub.status.busy": "2025-08-21T21:17:45.058756Z",
     "iopub.status.idle": "2025-08-21T21:17:45.062461Z",
     "shell.execute_reply": "2025-08-21T21:17:45.061876Z"
    }
   },
   "outputs": [
    {
     "name": "stdout",
     "output_type": "stream",
     "text": [
      "Writing my_component.py\n"
     ]
    }
   ],
   "source": [
    "%%writefile my_component.py\n",
    "\n",
    "import torchx.specs as specs\n",
    "\n",
    "def greet(user: str, image: str = \"my_app:latest\") -> specs.AppDef:\n",
    "    return specs.AppDef(\n",
    "        name=\"hello_world\",\n",
    "        roles=[\n",
    "            specs.Role(\n",
    "                name=\"greeter\",\n",
    "                image=image,\n",
    "                entrypoint=\"python\",\n",
    "                args=[\n",
    "                    \"-m\", \"my_app\",\n",
    "                    \"--user\", user,\n",
    "                ],\n",
    "            )\n",
    "        ],\n",
    "    )"
   ]
  },
  {
   "cell_type": "markdown",
   "id": "d190d0ab",
   "metadata": {},
   "source": [
    "We can execute our component via `torchx run`. The `local_cwd` scheduler\n",
    "executes the component relative to the current directory."
   ]
  },
  {
   "cell_type": "code",
   "execution_count": 5,
   "id": "e27a0f46",
   "metadata": {
    "execution": {
     "iopub.execute_input": "2025-08-21T21:17:45.064208Z",
     "iopub.status.busy": "2025-08-21T21:17:45.064022Z",
     "iopub.status.idle": "2025-08-21T21:17:46.535544Z",
     "shell.execute_reply": "2025-08-21T21:17:46.534944Z"
    }
   },
   "outputs": [
    {
     "name": "stderr",
     "output_type": "stream",
     "text": [
      "torchx 2025-08-21 21:17:45 INFO     Tracker configurations: {}\n"
     ]
    },
    {
     "name": "stderr",
     "output_type": "stream",
     "text": [
      "torchx 2025-08-21 21:17:45 INFO     Log directory not set in scheduler cfg. Creating a temporary log"
     ]
    },
    {
     "name": "stderr",
     "output_type": "stream",
     "text": [
      " dir that will be deleted on exit. To preserve log directory set the `log_dir` cfg option\n",
      "torchx 202"
     ]
    },
    {
     "name": "stderr",
     "output_type": "stream",
     "text": [
      "5-08-21 21:17:45 INFO     Log directory is: /tmp/torchx_78mngxh4\n"
     ]
    },
    {
     "name": "stderr",
     "output_type": "stream",
     "text": [
      "torchx 2025-08-21 21:17:45 INFO     Waiting for the app to finish...\n"
     ]
    },
    {
     "name": "stderr",
     "output_type": "stream",
     "text": [
      "greeter/0 Hello, your name!\n"
     ]
    },
    {
     "name": "stderr",
     "output_type": "stream",
     "text": [
      "torchx 2025-08-21 21:17:46 INFO     Job finished: SUCCEEDED\n"
     ]
    },
    {
     "name": "stdout",
     "output_type": "stream",
     "text": [
      "local_cwd://torchx/hello_world-jjr6rlpgbfm11c\n"
     ]
    }
   ],
   "source": [
    "%%sh\n",
    "torchx run --scheduler local_cwd my_component.py:greet --user \"your name\""
   ]
  },
  {
   "cell_type": "markdown",
   "id": "57ddd91e",
   "metadata": {},
   "source": [
    "If we want to run in other environments, we can build a Docker container so we\n",
    "can run our component in Docker enabled environments such as Kubernetes or via\n",
    "the local Docker scheduler.\n",
    "\n",
    "<div class=\"admonition note\">\n",
    "<div class=\"admonition-title\">Note</div>\n",
    "This requires Docker installed and won't work in environments such as Google\n",
    "Colab. If you have not done so already follow the install instructions on:\n",
    "[https://docs.docker.com/get-docker/](https://docs.docker.com/get-docker/)</a>\n",
    "</div>"
   ]
  },
  {
   "cell_type": "code",
   "execution_count": 6,
   "id": "b372c553",
   "metadata": {
    "execution": {
     "iopub.execute_input": "2025-08-21T21:17:46.537533Z",
     "iopub.status.busy": "2025-08-21T21:17:46.537340Z",
     "iopub.status.idle": "2025-08-21T21:17:46.541032Z",
     "shell.execute_reply": "2025-08-21T21:17:46.540413Z"
    }
   },
   "outputs": [
    {
     "name": "stdout",
     "output_type": "stream",
     "text": [
      "Writing Dockerfile.custom\n"
     ]
    }
   ],
   "source": [
    "%%writefile Dockerfile.custom\n",
    "\n",
    "FROM ghcr.io/pytorch/torchx:0.1.0rc1\n",
    "\n",
    "ADD my_app.py ."
   ]
  },
  {
   "cell_type": "markdown",
   "id": "687b2e92",
   "metadata": {},
   "source": [
    "Once we have the Dockerfile created we can create our docker image."
   ]
  },
  {
   "cell_type": "code",
   "execution_count": 7,
   "id": "923fb17a",
   "metadata": {
    "execution": {
     "iopub.execute_input": "2025-08-21T21:17:46.542920Z",
     "iopub.status.busy": "2025-08-21T21:17:46.542738Z",
     "iopub.status.idle": "2025-08-21T21:19:16.194803Z",
     "shell.execute_reply": "2025-08-21T21:19:16.194198Z"
    }
   },
   "outputs": [
    {
     "name": "stderr",
     "output_type": "stream",
     "text": [
      "#0 building with \"default\" instance using docker driver\n",
      "\n",
      "#1 [internal] load build definition from Do"
     ]
    },
    {
     "name": "stderr",
     "output_type": "stream",
     "text": [
      "ckerfile.custom\n",
      "#1 transferring dockerfile: 99B done\n",
      "#1 DONE 0.0s\n",
      "\n",
      "#2 [internal] load metadata for g"
     ]
    },
    {
     "name": "stderr",
     "output_type": "stream",
     "text": [
      "hcr.io/pytorch/torchx:0.1.0rc1\n"
     ]
    },
    {
     "name": "stderr",
     "output_type": "stream",
     "text": [
      "#2 DONE 0.7s\n"
     ]
    },
    {
     "name": "stderr",
     "output_type": "stream",
     "text": [
      "\n",
      "#3 [internal] load .dockerignore\n",
      "#3 transferring context: 2B done\n",
      "#3 DONE 0.0s\n",
      "\n",
      "#4 [internal] load "
     ]
    },
    {
     "name": "stderr",
     "output_type": "stream",
     "text": [
      "build context\n",
      "#4 transferring context: 425B done\n",
      "#4 DONE 0.0s\n",
      "\n",
      "#5 [1/2] FROM ghcr.io/pytorch/torchx:"
     ]
    },
    {
     "name": "stderr",
     "output_type": "stream",
     "text": [
      "0.1.0rc1@sha256:a738949601d82e7f100fa1efeb8dde0c35ce44c66726cf38596f96d78dcd7ad3\n",
      "#5 resolve ghcr.io/"
     ]
    },
    {
     "name": "stderr",
     "output_type": "stream",
     "text": [
      "pytorch/torchx:0.1.0rc1@sha256:a738949601d82e7f100fa1efeb8dde0c35ce44c66726cf38596f96d78dcd7ad3 done"
     ]
    },
    {
     "name": "stderr",
     "output_type": "stream",
     "text": [
      "\n"
     ]
    },
    {
     "name": "stderr",
     "output_type": "stream",
     "text": [
      "#5 sha256:a738949601d82e7f100fa1efeb8dde0c35ce44c66726cf38596f96d78dcd7ad3 3.25kB / 3.25kB done\n",
      "#5 s"
     ]
    },
    {
     "name": "stderr",
     "output_type": "stream",
     "text": [
      "ha256:889a7173dcfeb409f9d88054a97ab2445f5a799a823f719a5573365ee3662b6f 0B / 189B 0.1s\n",
      "#5 sha256:4bbf"
     ]
    },
    {
     "name": "stderr",
     "output_type": "stream",
     "text": [
      "d2c87b7524455f144a03bf387c88b6d4200e5e0df9139a9d5e79110f89ca 0B / 26.70MB 0.1s\n",
      "#5 sha256:d2e110be24e"
     ]
    },
    {
     "name": "stderr",
     "output_type": "stream",
     "text": [
      "168b42c1a2ddbc4a476a217b73cccdba69cdcb212b812a88f5726 0B / 857B 0.1s\n",
      "#5 sha256:3dbec59e804974689ff07"
     ]
    },
    {
     "name": "stderr",
     "output_type": "stream",
     "text": [
      "39216fb012d3e1cd6694632cd3a85b74b572266ec5c 7.21kB / 7.21kB done\n"
     ]
    },
    {
     "name": "stderr",
     "output_type": "stream",
     "text": [
      "#5 sha256:889a7173dcfeb409f9d88054a97ab2445f5a799a823f719a5573365ee3662b6f 189B / 189B 0.2s done\n",
      "#5 "
     ]
    },
    {
     "name": "stderr",
     "output_type": "stream",
     "text": [
      "sha256:4bbfd2c87b7524455f144a03bf387c88b6d4200e5e0df9139a9d5e79110f89ca 12.58MB / 26.70MB 0.2s\n",
      "#5 sh"
     ]
    },
    {
     "name": "stderr",
     "output_type": "stream",
     "text": [
      "a256:d2e110be24e168b42c1a2ddbc4a476a217b73cccdba69cdcb212b812a88f5726 857B / 857B 0.1s done\n",
      "#5 sha25"
     ]
    },
    {
     "name": "stderr",
     "output_type": "stream",
     "text": [
      "6:143f801954310499daa44a8499a49797d2f282b5d56be601557ebe6cbf796907 0B / 2.00GB 0.2s\n",
      "#5 sha256:6009a6"
     ]
    },
    {
     "name": "stderr",
     "output_type": "stream",
     "text": [
      "22672af862e3a3979ffd58a348f95208a4bc3b6f6cea2efda4e8390203 0B / 9.94MB 0.2s\n"
     ]
    },
    {
     "name": "stderr",
     "output_type": "stream",
     "text": [
      "#5 sha256:4bbfd2c87b7524455f144a03bf387c88b6d4200e5e0df9139a9d5e79110f89ca 26.70MB / 26.70MB 0.3s do"
     ]
    },
    {
     "name": "stderr",
     "output_type": "stream",
     "text": [
      "ne\n",
      "#5 sha256:6009a622672af862e3a3979ffd58a348f95208a4bc3b6f6cea2efda4e8390203 2.16MB / 9.94MB 0.3s\n",
      "#"
     ]
    },
    {
     "name": "stderr",
     "output_type": "stream",
     "text": [
      "5 extracting sha256:4bbfd2c87b7524455f144a03bf387c88b6d4200e5e0df9139a9d5e79110f89ca 0.1s\n",
      "#5 sha256:"
     ]
    },
    {
     "name": "stderr",
     "output_type": "stream",
     "text": [
      "eccbe17c44e1b27c836dddc42f204bde06f73568b50833556b50324146bd43aa 0B / 132B 0.3s\n"
     ]
    },
    {
     "name": "stderr",
     "output_type": "stream",
     "text": [
      "#5 sha256:6009a622672af862e3a3979ffd58a348f95208a4bc3b6f6cea2efda4e8390203 9.94MB / 9.94MB 0.4s done"
     ]
    },
    {
     "name": "stderr",
     "output_type": "stream",
     "text": [
      "\n"
     ]
    },
    {
     "name": "stderr",
     "output_type": "stream",
     "text": [
      "#5 sha256:d4c7af0d4fa735e6727a24afcea4022492c7f29ac85e31ddf3d385bfbf704f71 0B / 21.46MB 0.4s\n"
     ]
    },
    {
     "name": "stderr",
     "output_type": "stream",
     "text": [
      "#5 sha256:eccbe17c44e1b27c836dddc42f204bde06f73568b50833556b50324146bd43aa 132B / 132B 0.5s done\n",
      "#5 "
     ]
    },
    {
     "name": "stderr",
     "output_type": "stream",
     "text": [
      "sha256:d4c7af0d4fa735e6727a24afcea4022492c7f29ac85e31ddf3d385bfbf704f71 11.53MB / 21.46MB 0.7s\n",
      "#5 sh"
     ]
    },
    {
     "name": "stderr",
     "output_type": "stream",
     "text": [
      "a256:06b5edd6bf524455a7c5a54cb27ced3ecc540414ecf38c24c80ba4368ebc77de 0B / 257B 0.7s\n"
     ]
    },
    {
     "name": "stderr",
     "output_type": "stream",
     "text": [
      "#5 sha256:d4c7af0d4fa735e6727a24afcea4022492c7f29ac85e31ddf3d385bfbf704f71 21.46MB / 21.46MB 0.8s do"
     ]
    },
    {
     "name": "stderr",
     "output_type": "stream",
     "text": [
      "ne\n",
      "#5 sha256:06b5edd6bf524455a7c5a54cb27ced3ecc540414ecf38c24c80ba4368ebc77de 257B / 257B 0.8s done\n"
     ]
    },
    {
     "name": "stderr",
     "output_type": "stream",
     "text": [
      "#5 sha256:c0ad16d9fa05dbf708784e8aa10d69153465bae391345020be52cbe0a1701932 0B / 92B 0.8s\n",
      "#5 sha256:f"
     ]
    },
    {
     "name": "stderr",
     "output_type": "stream",
     "text": [
      "18d016c4ccc1c57c9e34cb119e1e1966287b08aa9b4d52a38b30815a56574b6 0B / 1.71GB 0.8s\n"
     ]
    },
    {
     "name": "stderr",
     "output_type": "stream",
     "text": [
      "#5 sha256:c0ad16d9fa05dbf708784e8aa10d69153465bae391345020be52cbe0a1701932 92B / 92B 0.9s done\n",
      "#5 sh"
     ]
    },
    {
     "name": "stderr",
     "output_type": "stream",
     "text": [
      "a256:30587ba7fd6bcbd1c883125d84517055b2d7f2d35a13faedbc8b15f94b900cc2 0B / 352B 0.9s\n"
     ]
    },
    {
     "name": "stderr",
     "output_type": "stream",
     "text": [
      "#5 sha256:143f801954310499daa44a8499a49797d2f282b5d56be601557ebe6cbf796907 100.66MB / 2.00GB 1.0s\n",
      "#5"
     ]
    },
    {
     "name": "stderr",
     "output_type": "stream",
     "text": [
      " sha256:30587ba7fd6bcbd1c883125d84517055b2d7f2d35a13faedbc8b15f94b900cc2 352B / 352B 1.0s done\n",
      "#5 sh"
     ]
    },
    {
     "name": "stderr",
     "output_type": "stream",
     "text": [
      "a256:909695be1d5003de345714eec2ca3020a48dd8f407fe918cbd47a8db73d7a233 0B / 341.29MB 1.0s\n"
     ]
    },
    {
     "name": "stderr",
     "output_type": "stream",
     "text": [
      "#5 extracting sha256:4bbfd2c87b7524455f144a03bf387c88b6d4200e5e0df9139a9d5e79110f89ca 1.0s done\n"
     ]
    },
    {
     "name": "stderr",
     "output_type": "stream",
     "text": [
      "#5 sha256:909695be1d5003de345714eec2ca3020a48dd8f407fe918cbd47a8db73d7a233 27.26MB / 341.29MB 1.3s\n"
     ]
    },
    {
     "name": "stderr",
     "output_type": "stream",
     "text": [
      "#5 sha256:909695be1d5003de345714eec2ca3020a48dd8f407fe918cbd47a8db73d7a233 50.33MB / 341.29MB 1.4s\n"
     ]
    },
    {
     "name": "stderr",
     "output_type": "stream",
     "text": [
      "#5 extracting sha256:d2e110be24e168b42c1a2ddbc4a476a217b73cccdba69cdcb212b812a88f5726 done\n"
     ]
    },
    {
     "name": "stderr",
     "output_type": "stream",
     "text": [
      "#5 sha256:143f801954310499daa44a8499a49797d2f282b5d56be601557ebe6cbf796907 206.57MB / 2.00GB 1.5s\n",
      "#5"
     ]
    },
    {
     "name": "stderr",
     "output_type": "stream",
     "text": [
      " sha256:f18d016c4ccc1c57c9e34cb119e1e1966287b08aa9b4d52a38b30815a56574b6 88.08MB / 1.71GB 1.5s\n",
      "#5 sh"
     ]
    },
    {
     "name": "stderr",
     "output_type": "stream",
     "text": [
      "a256:909695be1d5003de345714eec2ca3020a48dd8f407fe918cbd47a8db73d7a233 71.30MB / 341.29MB 1.5s\n"
     ]
    },
    {
     "name": "stderr",
     "output_type": "stream",
     "text": [
      "#5 sha256:909695be1d5003de345714eec2ca3020a48dd8f407fe918cbd47a8db73d7a233 110.10MB / 341.29MB 1.7s\n"
     ]
    },
    {
     "name": "stderr",
     "output_type": "stream",
     "text": [
      "#5 sha256:909695be1d5003de345714eec2ca3020a48dd8f407fe918cbd47a8db73d7a233 135.27MB / 341.29MB 2.0s\n"
     ]
    },
    {
     "name": "stderr",
     "output_type": "stream",
     "text": [
      "#5 sha256:143f801954310499daa44a8499a49797d2f282b5d56be601557ebe6cbf796907 324.28MB / 2.00GB 2.2s\n",
      "#5"
     ]
    },
    {
     "name": "stderr",
     "output_type": "stream",
     "text": [
      " sha256:f18d016c4ccc1c57c9e34cb119e1e1966287b08aa9b4d52a38b30815a56574b6 190.84MB / 1.71GB 2.2s\n",
      "#5 s"
     ]
    },
    {
     "name": "stderr",
     "output_type": "stream",
     "text": [
      "ha256:909695be1d5003de345714eec2ca3020a48dd8f407fe918cbd47a8db73d7a233 182.45MB / 341.29MB 2.2s\n"
     ]
    },
    {
     "name": "stderr",
     "output_type": "stream",
     "text": [
      "#5 sha256:909695be1d5003de345714eec2ca3020a48dd8f407fe918cbd47a8db73d7a233 203.42MB / 341.29MB 2.3s\n"
     ]
    },
    {
     "name": "stderr",
     "output_type": "stream",
     "text": [
      "#5 sha256:909695be1d5003de345714eec2ca3020a48dd8f407fe918cbd47a8db73d7a233 239.08MB / 341.29MB 2.5s\n"
     ]
    },
    {
     "name": "stderr",
     "output_type": "stream",
     "text": [
      "#5 sha256:143f801954310499daa44a8499a49797d2f282b5d56be601557ebe6cbf796907 440.40MB / 2.00GB 2.9s\n"
     ]
    },
    {
     "name": "stderr",
     "output_type": "stream",
     "text": [
      "#5 sha256:f18d016c4ccc1c57c9e34cb119e1e1966287b08aa9b4d52a38b30815a56574b6 304.24MB / 1.71GB 2.9s\n",
      "#5"
     ]
    },
    {
     "name": "stderr",
     "output_type": "stream",
     "text": [
      " sha256:909695be1d5003de345714eec2ca3020a48dd8f407fe918cbd47a8db73d7a233 289.41MB / 341.29MB 2.9s\n"
     ]
    },
    {
     "name": "stderr",
     "output_type": "stream",
     "text": [
      "#5 sha256:909695be1d5003de345714eec2ca3020a48dd8f407fe918cbd47a8db73d7a233 326.11MB / 341.29MB 3.1s\n"
     ]
    },
    {
     "name": "stderr",
     "output_type": "stream",
     "text": [
      "#5 extracting sha256:889a7173dcfeb409f9d88054a97ab2445f5a799a823f719a5573365ee3662b6f done\n"
     ]
    },
    {
     "name": "stderr",
     "output_type": "stream",
     "text": [
      "#5 sha256:f18d016c4ccc1c57c9e34cb119e1e1966287b08aa9b4d52a38b30815a56574b6 407.98MB / 1.71GB 3.5s\n"
     ]
    },
    {
     "name": "stderr",
     "output_type": "stream",
     "text": [
      "#5 sha256:143f801954310499daa44a8499a49797d2f282b5d56be601557ebe6cbf796907 557.84MB / 2.00GB 3.8s\n"
     ]
    },
    {
     "name": "stderr",
     "output_type": "stream",
     "text": [
      "#5 sha256:f18d016c4ccc1c57c9e34cb119e1e1966287b08aa9b4d52a38b30815a56574b6 503.32MB / 1.71GB 4.2s\n"
     ]
    },
    {
     "name": "stderr",
     "output_type": "stream",
     "text": [
      "#5 sha256:143f801954310499daa44a8499a49797d2f282b5d56be601557ebe6cbf796907 659.55MB / 2.00GB 4.3s\n",
      "#5"
     ]
    },
    {
     "name": "stderr",
     "output_type": "stream",
     "text": [
      " sha256:909695be1d5003de345714eec2ca3020a48dd8f407fe918cbd47a8db73d7a233 341.29MB / 341.29MB 4.1s do"
     ]
    },
    {
     "name": "stderr",
     "output_type": "stream",
     "text": [
      "ne\n"
     ]
    },
    {
     "name": "stderr",
     "output_type": "stream",
     "text": [
      "#5 sha256:f18d016c4ccc1c57c9e34cb119e1e1966287b08aa9b4d52a38b30815a56574b6 597.32MB / 1.71GB 4.8s\n"
     ]
    },
    {
     "name": "stderr",
     "output_type": "stream",
     "text": [
      "#5 sha256:143f801954310499daa44a8499a49797d2f282b5d56be601557ebe6cbf796907 764.41MB / 2.00GB 4.9s\n",
      "#5"
     ]
    },
    {
     "name": "stderr",
     "output_type": "stream",
     "text": [
      " extracting sha256:6009a622672af862e3a3979ffd58a348f95208a4bc3b6f6cea2efda4e8390203\n",
      "#5 sha256:f119a6"
     ]
    },
    {
     "name": "stderr",
     "output_type": "stream",
     "text": [
      "d0a466a041afbcb08344ff624b5c5ac5f68b93d33af4827529ea1a6800 0B / 563.38kB 4.9s\n"
     ]
    },
    {
     "name": "stderr",
     "output_type": "stream",
     "text": [
      "#5 sha256:f119a6d0a466a041afbcb08344ff624b5c5ac5f68b93d33af4827529ea1a6800 563.38kB / 563.38kB 5.0s "
     ]
    },
    {
     "name": "stderr",
     "output_type": "stream",
     "text": [
      "done\n",
      "#5 sha256:88d87059c913e67971846680d4032b75f96f599f8a67062f668fed6471fc2968 0B / 556.96kB 5.0s\n"
     ]
    },
    {
     "name": "stderr",
     "output_type": "stream",
     "text": [
      "#5 sha256:f18d016c4ccc1c57c9e34cb119e1e1966287b08aa9b4d52a38b30815a56574b6 700.35MB / 1.71GB 5.3s\n",
      "#5"
     ]
    },
    {
     "name": "stderr",
     "output_type": "stream",
     "text": [
      " sha256:88d87059c913e67971846680d4032b75f96f599f8a67062f668fed6471fc2968 556.96kB / 556.96kB 5.2s do"
     ]
    },
    {
     "name": "stderr",
     "output_type": "stream",
     "text": [
      "ne\n"
     ]
    },
    {
     "name": "stderr",
     "output_type": "stream",
     "text": [
      "#5 sha256:143f801954310499daa44a8499a49797d2f282b5d56be601557ebe6cbf796907 889.19MB / 2.00GB 5.5s\n"
     ]
    },
    {
     "name": "stderr",
     "output_type": "stream",
     "text": [
      "#5 extracting sha256:6009a622672af862e3a3979ffd58a348f95208a4bc3b6f6cea2efda4e8390203 0.7s done\n"
     ]
    },
    {
     "name": "stderr",
     "output_type": "stream",
     "text": [
      "#5 sha256:f18d016c4ccc1c57c9e34cb119e1e1966287b08aa9b4d52a38b30815a56574b6 813.69MB / 1.71GB 6.0s\n"
     ]
    },
    {
     "name": "stderr",
     "output_type": "stream",
     "text": [
      "#5 sha256:143f801954310499daa44a8499a49797d2f282b5d56be601557ebe6cbf796907 994.05MB / 2.00GB 6.1s\n"
     ]
    },
    {
     "name": "stderr",
     "output_type": "stream",
     "text": [
      "#5 sha256:f18d016c4ccc1c57c9e34cb119e1e1966287b08aa9b4d52a38b30815a56574b6 922.75MB / 1.71GB 6.7s\n"
     ]
    },
    {
     "name": "stderr",
     "output_type": "stream",
     "text": [
      "#5 sha256:143f801954310499daa44a8499a49797d2f282b5d56be601557ebe6cbf796907 1.09GB / 2.00GB 6.8s\n"
     ]
    },
    {
     "name": "stderr",
     "output_type": "stream",
     "text": [
      "#5 sha256:143f801954310499daa44a8499a49797d2f282b5d56be601557ebe6cbf796907 1.22GB / 2.00GB 7.4s\n",
      "#5 s"
     ]
    },
    {
     "name": "stderr",
     "output_type": "stream",
     "text": [
      "ha256:f18d016c4ccc1c57c9e34cb119e1e1966287b08aa9b4d52a38b30815a56574b6 1.04GB / 1.71GB 7.4s\n"
     ]
    },
    {
     "name": "stderr",
     "output_type": "stream",
     "text": [
      "#5 sha256:f18d016c4ccc1c57c9e34cb119e1e1966287b08aa9b4d52a38b30815a56574b6 1.14GB / 1.71GB 7.9s\n"
     ]
    },
    {
     "name": "stderr",
     "output_type": "stream",
     "text": [
      "#5 sha256:143f801954310499daa44a8499a49797d2f282b5d56be601557ebe6cbf796907 1.33GB / 2.00GB 8.0s\n"
     ]
    },
    {
     "name": "stderr",
     "output_type": "stream",
     "text": [
      "#5 sha256:f18d016c4ccc1c57c9e34cb119e1e1966287b08aa9b4d52a38b30815a56574b6 1.24GB / 1.71GB 8.5s\n"
     ]
    },
    {
     "name": "stderr",
     "output_type": "stream",
     "text": [
      "#5 sha256:143f801954310499daa44a8499a49797d2f282b5d56be601557ebe6cbf796907 1.46GB / 2.00GB 8.7s\n"
     ]
    },
    {
     "name": "stderr",
     "output_type": "stream",
     "text": [
      "#5 sha256:f18d016c4ccc1c57c9e34cb119e1e1966287b08aa9b4d52a38b30815a56574b6 1.33GB / 1.71GB 9.0s\n"
     ]
    },
    {
     "name": "stderr",
     "output_type": "stream",
     "text": [
      "#5 sha256:143f801954310499daa44a8499a49797d2f282b5d56be601557ebe6cbf796907 1.57GB / 2.00GB 9.2s\n"
     ]
    },
    {
     "name": "stderr",
     "output_type": "stream",
     "text": [
      "#5 sha256:f18d016c4ccc1c57c9e34cb119e1e1966287b08aa9b4d52a38b30815a56574b6 1.42GB / 1.71GB 9.6s\n"
     ]
    },
    {
     "name": "stderr",
     "output_type": "stream",
     "text": [
      "#5 sha256:143f801954310499daa44a8499a49797d2f282b5d56be601557ebe6cbf796907 1.68GB / 2.00GB 9.8s\n"
     ]
    },
    {
     "name": "stderr",
     "output_type": "stream",
     "text": [
      "#5 sha256:f18d016c4ccc1c57c9e34cb119e1e1966287b08aa9b4d52a38b30815a56574b6 1.53GB / 1.71GB 10.3s\n"
     ]
    },
    {
     "name": "stderr",
     "output_type": "stream",
     "text": [
      "#5 sha256:143f801954310499daa44a8499a49797d2f282b5d56be601557ebe6cbf796907 1.79GB / 2.00GB 10.7s\n"
     ]
    },
    {
     "name": "stderr",
     "output_type": "stream",
     "text": [
      "#5 sha256:f18d016c4ccc1c57c9e34cb119e1e1966287b08aa9b4d52a38b30815a56574b6 1.64GB / 1.71GB 11.0s\n"
     ]
    },
    {
     "name": "stderr",
     "output_type": "stream",
     "text": [
      "#5 sha256:143f801954310499daa44a8499a49797d2f282b5d56be601557ebe6cbf796907 1.91GB / 2.00GB 11.4s\n"
     ]
    },
    {
     "name": "stderr",
     "output_type": "stream",
     "text": [
      "#5 sha256:f18d016c4ccc1c57c9e34cb119e1e1966287b08aa9b4d52a38b30815a56574b6 1.71GB / 1.71GB 13.5s don"
     ]
    },
    {
     "name": "stderr",
     "output_type": "stream",
     "text": [
      "e\n"
     ]
    },
    {
     "name": "stderr",
     "output_type": "stream",
     "text": [
      "#5 sha256:143f801954310499daa44a8499a49797d2f282b5d56be601557ebe6cbf796907 2.00GB / 2.00GB 14.6s don"
     ]
    },
    {
     "name": "stderr",
     "output_type": "stream",
     "text": [
      "e\n",
      "#5 extracting sha256:143f801954310499daa44a8499a49797d2f282b5d56be601557ebe6cbf796907 0.1s\n"
     ]
    },
    {
     "name": "stderr",
     "output_type": "stream",
     "text": [
      "#5 extracting sha256:143f801954310499daa44a8499a49797d2f282b5d56be601557ebe6cbf796907 5.1s\n"
     ]
    },
    {
     "name": "stderr",
     "output_type": "stream",
     "text": [
      "#5 extracting sha256:143f801954310499daa44a8499a49797d2f282b5d56be601557ebe6cbf796907 10.2s\n"
     ]
    },
    {
     "name": "stderr",
     "output_type": "stream",
     "text": [
      "#5 extracting sha256:143f801954310499daa44a8499a49797d2f282b5d56be601557ebe6cbf796907 15.3s\n"
     ]
    },
    {
     "name": "stderr",
     "output_type": "stream",
     "text": [
      "#5 extracting sha256:143f801954310499daa44a8499a49797d2f282b5d56be601557ebe6cbf796907 20.3s\n"
     ]
    },
    {
     "name": "stderr",
     "output_type": "stream",
     "text": [
      "#5 extracting sha256:143f801954310499daa44a8499a49797d2f282b5d56be601557ebe6cbf796907 25.3s\n"
     ]
    },
    {
     "name": "stderr",
     "output_type": "stream",
     "text": [
      "#5 extracting sha256:143f801954310499daa44a8499a49797d2f282b5d56be601557ebe6cbf796907 28.2s done\n"
     ]
    },
    {
     "name": "stderr",
     "output_type": "stream",
     "text": [
      "#5 extracting sha256:eccbe17c44e1b27c836dddc42f204bde06f73568b50833556b50324146bd43aa\n"
     ]
    },
    {
     "name": "stderr",
     "output_type": "stream",
     "text": [
      "#5 extracting sha256:eccbe17c44e1b27c836dddc42f204bde06f73568b50833556b50324146bd43aa done\n",
      "#5 extrac"
     ]
    },
    {
     "name": "stderr",
     "output_type": "stream",
     "text": [
      "ting sha256:d4c7af0d4fa735e6727a24afcea4022492c7f29ac85e31ddf3d385bfbf704f71 0.1s\n"
     ]
    },
    {
     "name": "stderr",
     "output_type": "stream",
     "text": [
      "#5 extracting sha256:d4c7af0d4fa735e6727a24afcea4022492c7f29ac85e31ddf3d385bfbf704f71 0.7s done\n",
      "#5 e"
     ]
    },
    {
     "name": "stderr",
     "output_type": "stream",
     "text": [
      "xtracting sha256:06b5edd6bf524455a7c5a54cb27ced3ecc540414ecf38c24c80ba4368ebc77de\n"
     ]
    },
    {
     "name": "stderr",
     "output_type": "stream",
     "text": [
      "#5 extracting sha256:06b5edd6bf524455a7c5a54cb27ced3ecc540414ecf38c24c80ba4368ebc77de done\n",
      "#5 extrac"
     ]
    },
    {
     "name": "stderr",
     "output_type": "stream",
     "text": [
      "ting sha256:f18d016c4ccc1c57c9e34cb119e1e1966287b08aa9b4d52a38b30815a56574b6\n"
     ]
    },
    {
     "name": "stderr",
     "output_type": "stream",
     "text": [
      "#5 extracting sha256:f18d016c4ccc1c57c9e34cb119e1e1966287b08aa9b4d52a38b30815a56574b6 5.1s\n"
     ]
    },
    {
     "name": "stderr",
     "output_type": "stream",
     "text": [
      "#5 extracting sha256:f18d016c4ccc1c57c9e34cb119e1e1966287b08aa9b4d52a38b30815a56574b6 10.1s\n"
     ]
    },
    {
     "name": "stderr",
     "output_type": "stream",
     "text": [
      "#5 extracting sha256:f18d016c4ccc1c57c9e34cb119e1e1966287b08aa9b4d52a38b30815a56574b6 13.0s done\n"
     ]
    },
    {
     "name": "stderr",
     "output_type": "stream",
     "text": [
      "#5 extracting sha256:c0ad16d9fa05dbf708784e8aa10d69153465bae391345020be52cbe0a1701932\n"
     ]
    },
    {
     "name": "stderr",
     "output_type": "stream",
     "text": [
      "#5 extracting sha256:c0ad16d9fa05dbf708784e8aa10d69153465bae391345020be52cbe0a1701932 done\n",
      "#5 extrac"
     ]
    },
    {
     "name": "stderr",
     "output_type": "stream",
     "text": [
      "ting sha256:30587ba7fd6bcbd1c883125d84517055b2d7f2d35a13faedbc8b15f94b900cc2 done\n",
      "#5 extracting sha2"
     ]
    },
    {
     "name": "stderr",
     "output_type": "stream",
     "text": [
      "56:909695be1d5003de345714eec2ca3020a48dd8f407fe918cbd47a8db73d7a233 0.1s\n"
     ]
    },
    {
     "name": "stderr",
     "output_type": "stream",
     "text": [
      "#5 extracting sha256:909695be1d5003de345714eec2ca3020a48dd8f407fe918cbd47a8db73d7a233 5.2s\n"
     ]
    },
    {
     "name": "stderr",
     "output_type": "stream",
     "text": [
      "#5 extracting sha256:909695be1d5003de345714eec2ca3020a48dd8f407fe918cbd47a8db73d7a233 10.3s\n"
     ]
    },
    {
     "name": "stderr",
     "output_type": "stream",
     "text": [
      "#5 extracting sha256:909695be1d5003de345714eec2ca3020a48dd8f407fe918cbd47a8db73d7a233 13.9s done\n"
     ]
    },
    {
     "name": "stderr",
     "output_type": "stream",
     "text": [
      "#5 extracting sha256:f119a6d0a466a041afbcb08344ff624b5c5ac5f68b93d33af4827529ea1a6800\n"
     ]
    },
    {
     "name": "stderr",
     "output_type": "stream",
     "text": [
      "#5 extracting sha256:f119a6d0a466a041afbcb08344ff624b5c5ac5f68b93d33af4827529ea1a6800 0.1s done\n",
      "#5 e"
     ]
    },
    {
     "name": "stderr",
     "output_type": "stream",
     "text": [
      "xtracting sha256:88d87059c913e67971846680d4032b75f96f599f8a67062f668fed6471fc2968\n"
     ]
    },
    {
     "name": "stderr",
     "output_type": "stream",
     "text": [
      "#5 extracting sha256:88d87059c913e67971846680d4032b75f96f599f8a67062f668fed6471fc2968 0.0s done\n"
     ]
    },
    {
     "name": "stderr",
     "output_type": "stream",
     "text": [
      "#5 DONE 79.5s\n"
     ]
    },
    {
     "name": "stderr",
     "output_type": "stream",
     "text": [
      "\n",
      "#6 [2/2] ADD my_app.py .\n",
      "#6 DONE 0.0s\n",
      "\n",
      "#7 exporting to image\n",
      "#7 exporting layers\n"
     ]
    },
    {
     "name": "stderr",
     "output_type": "stream",
     "text": [
      "#7 exporting layers 4.3s done\n",
      "#7 writing image sha256:2994179ed8beffb682ac95d260ff909bcc3d5ae9f7fed4"
     ]
    },
    {
     "name": "stderr",
     "output_type": "stream",
     "text": [
      "1d7db3a47f3449bbe1\n"
     ]
    },
    {
     "name": "stderr",
     "output_type": "stream",
     "text": [
      "#7 writing image sha256:2994179ed8beffb682ac95d260ff909bcc3d5ae9f7fed41d7db3a47f3449bbe1 done\n",
      "#7 nam"
     ]
    },
    {
     "name": "stderr",
     "output_type": "stream",
     "text": [
      "ing to docker.io/library/my_app:latest done\n",
      "#7 DONE 4.3s\n"
     ]
    }
   ],
   "source": [
    "%%sh\n",
    "docker build -t my_app:latest -f Dockerfile.custom ."
   ]
  },
  {
   "cell_type": "markdown",
   "id": "2a0053b3",
   "metadata": {},
   "source": [
    "We can then launch it on the local scheduler."
   ]
  },
  {
   "cell_type": "code",
   "execution_count": 8,
   "id": "0aa51809",
   "metadata": {
    "execution": {
     "iopub.execute_input": "2025-08-21T21:19:16.196743Z",
     "iopub.status.busy": "2025-08-21T21:19:16.196537Z",
     "iopub.status.idle": "2025-08-21T21:19:27.116380Z",
     "shell.execute_reply": "2025-08-21T21:19:27.115772Z"
    }
   },
   "outputs": [
    {
     "name": "stderr",
     "output_type": "stream",
     "text": [
      "torchx 2025-08-21 21:19:16 INFO     Tracker configurations: {}\n"
     ]
    },
    {
     "name": "stderr",
     "output_type": "stream",
     "text": [
      "torchx 2025-08-21 21:19:16 INFO     Checking for changes in workspace `file:///home/runner/work/torc"
     ]
    },
    {
     "name": "stderr",
     "output_type": "stream",
     "text": [
      "hx/torchx/docs/source`...\n",
      "torchx 2025-08-21 21:19:16 INFO     To disable workspaces pass: --workspac"
     ]
    },
    {
     "name": "stderr",
     "output_type": "stream",
     "text": [
      "e=\"\" from CLI or workspace=None programmatically.\n"
     ]
    },
    {
     "name": "stderr",
     "output_type": "stream",
     "text": [
      "torchx 2025-08-21 21:19:16 INFO     Workspace `file:///home/runner/work/torchx/torchx/docs/source` r"
     ]
    },
    {
     "name": "stderr",
     "output_type": "stream",
     "text": [
      "esolved to filesystem path `/home/runner/work/torchx/torchx/docs/source`\n"
     ]
    },
    {
     "name": "stderr",
     "output_type": "stream",
     "text": [
      "torchx 2025-08-21 21:19:17 WARNING  failed to pull image my_app:latest, falling back to local: 404 C"
     ]
    },
    {
     "name": "stderr",
     "output_type": "stream",
     "text": [
      "lient Error for http+docker://localhost/v1.48/images/create?tag=latest&fromImage=my_app: Not Found ("
     ]
    },
    {
     "name": "stderr",
     "output_type": "stream",
     "text": [
      "\"pull access denied for my_app, repository does not exist or may require 'docker login': denied: req"
     ]
    },
    {
     "name": "stderr",
     "output_type": "stream",
     "text": [
      "uested access to the resource is denied\")\n"
     ]
    },
    {
     "name": "stderr",
     "output_type": "stream",
     "text": [
      "torchx 2025-08-21 21:19:17 INFO     Building workspace docker image (this may take a while)...\n"
     ]
    },
    {
     "name": "stderr",
     "output_type": "stream",
     "text": [
      "torchx 2025-08-21 21:19:17 INFO     Step 1/4 : ARG IMAGE\n"
     ]
    },
    {
     "name": "stderr",
     "output_type": "stream",
     "text": [
      "torchx 2025-08-21 21:19:17 INFO     Step 2/4 : FROM $IMAGE\n",
      "torchx 2025-08-21 21:19:17 INFO      --->"
     ]
    },
    {
     "name": "stderr",
     "output_type": "stream",
     "text": [
      " 2994179ed8be\n",
      "torchx 2025-08-21 21:19:17 INFO     Step 3/4 : COPY . .\n"
     ]
    },
    {
     "name": "stderr",
     "output_type": "stream",
     "text": [
      "torchx 2025-08-21 21:19:21 INFO      ---> 21919959e394\n"
     ]
    },
    {
     "name": "stderr",
     "output_type": "stream",
     "text": [
      "torchx 2025-08-21 21:19:21 INFO     Step 4/4 : LABEL torchx.pytorch.org/version=0.8.0dev0\n"
     ]
    },
    {
     "name": "stderr",
     "output_type": "stream",
     "text": [
      "torchx 2025-08-21 21:19:21 INFO      ---> Running in eae67d8d00b5\n"
     ]
    },
    {
     "name": "stderr",
     "output_type": "stream",
     "text": [
      "torchx 2025-08-21 21:19:25 INFO      ---> Removed intermediate container eae67d8d00b5\n"
     ]
    },
    {
     "name": "stderr",
     "output_type": "stream",
     "text": [
      "torchx 2025-08-21 21:19:25 INFO      ---> 93140d03084e\n",
      "torchx 2025-08-21 21:19:25 INFO     [Warning]"
     ]
    },
    {
     "name": "stderr",
     "output_type": "stream",
     "text": [
      " One or more build-args [WORKSPACE] were not consumed\n"
     ]
    },
    {
     "name": "stderr",
     "output_type": "stream",
     "text": [
      "torchx 2025-08-21 21:19:25 INFO     Successfully built 93140d03084e\n"
     ]
    },
    {
     "name": "stderr",
     "output_type": "stream",
     "text": [
      "torchx 2025-08-21 21:19:25 INFO     Built new image `sha256:93140d03084e37f9e52da0a4edc828e9ffb2d04f"
     ]
    },
    {
     "name": "stderr",
     "output_type": "stream",
     "text": [
      "a46026f986027d0bb64da7ee` based on original image `my_app:latest` and changes in workspace `file:///"
     ]
    },
    {
     "name": "stderr",
     "output_type": "stream",
     "text": [
      "home/runner/work/torchx/torchx/docs/source` for role[0]=greeter.\n"
     ]
    },
    {
     "name": "stderr",
     "output_type": "stream",
     "text": [
      "torchx 2025-08-21 21:19:26 INFO     Waiting for the app to finish...\n"
     ]
    },
    {
     "name": "stderr",
     "output_type": "stream",
     "text": [
      "greeter/0 Hello, your name!\n"
     ]
    },
    {
     "name": "stderr",
     "output_type": "stream",
     "text": [
      "torchx 2025-08-21 21:19:27 INFO     Job finished: SUCCEEDED\n"
     ]
    },
    {
     "name": "stdout",
     "output_type": "stream",
     "text": [
      "local_docker://torchx/hello_world-rql3lql37b7xh\n"
     ]
    }
   ],
   "source": [
    "%%sh\n",
    "torchx run --scheduler local_docker my_component.py:greet --image \"my_app:latest\" --user \"your name\""
   ]
  },
  {
   "cell_type": "markdown",
   "id": "75632337",
   "metadata": {},
   "source": [
    "If you have a Kubernetes cluster you can use the\n",
    "[Kubernetes scheduler](schedulers/kubernetes.rst) to launch this on the cluster\n",
    "instead."
   ]
  },
  {
   "cell_type": "markdown",
   "id": "6c95e349",
   "metadata": {
    "region_name": "md"
   },
   "source": [
    "\n",
    "```sh\n",
    "$ docker push my_app:latest\n",
    "$ torchx run --scheduler kubernetes my_component.py:greet --image \"my_app:latest\" --user \"your name\"\n",
    "```\n"
   ]
  }
 ],
 "metadata": {
  "jupytext": {
   "text_representation": {
    "extension": ".md",
    "format_name": "markdown",
    "format_version": "1.1",
    "jupytext_version": "1.1.0"
   }
  },
  "kernelspec": {
   "display_name": "Python 3",
   "language": "python",
   "name": "python3"
  },
  "language_info": {
   "codemirror_mode": {
    "name": "ipython",
    "version": 3
   },
   "file_extension": ".py",
   "mimetype": "text/x-python",
   "name": "python",
   "nbconvert_exporter": "python",
   "pygments_lexer": "ipython3",
   "version": "3.10.18"
  }
 },
 "nbformat": 4,
 "nbformat_minor": 5
}
