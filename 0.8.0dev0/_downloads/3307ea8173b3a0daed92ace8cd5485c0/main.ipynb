{
  "cells": [
    {
      "cell_type": "code",
      "execution_count": null,
      "metadata": {
        "collapsed": false
      },
      "outputs": [],
      "source": [
        "!pip install torchx\n!wget --no-clobber https://github.com/meta-pytorch/torchx/archive/refs/heads/main.tar.gz\n!tar xf main.tar.gz --strip-components=1\n\nNOTEBOOK = True"
      ]
    },
    {
      "cell_type": "markdown",
      "metadata": {},
      "source": [
        "\nCompute World Size Example\n============================\n\nThis is a minimal \"hello world\" style  example application that uses\nPyTorch Distributed to compute the world size. It does not do ML training\nbut it does initialize process groups and performs a single collective operation (all_reduce)\nwhich is enough to validate the infrastructure and scheduler setup.\n\nAs simple as this application is, the actual ``compute_world_size()`` function is\nsplit into a separate submodule (``.module.util.compute_world_size``) to double\nas a E2E test for workspace patching logic, which typically diff-patches a full project\ndirectory rather than a single file. This application also uses `Hydra <https://hydra.cc/docs/intro/>`_\nconfigs as an expository example of how to use Hydra configs in an application that launches with TorchX.\n\nRun it with the ``dist.ddp`` builtin component to use as a validation application\nto ensure that the stack has been setup properly for more serious distributed training jobs.\n"
      ]
    },
    {
      "cell_type": "code",
      "execution_count": null,
      "metadata": {
        "collapsed": false
      },
      "outputs": [],
      "source": [
        "import hydra\nfrom omegaconf import DictConfig, OmegaConf\nfrom torch.distributed.elastic.multiprocessing.errors import record\nfrom torchx.examples.apps.compute_world_size.module.util import compute_world_size\n\n\n@record\ndef run(cfg: DictConfig) -> None:\n    print(OmegaConf.to_yaml(cfg))\n\n    if cfg.main.throws:\n        raise RuntimeError(f\"raising error because cfg.main.throws={cfg.main.throws}\")\n    compute_world_size(cfg)\n\n\nif __name__ == \"__main__\":\n    # use compose API to make this compatible with ipython notebooks\n    # need to initialize the config directory as a module to make it\n    # not depends on rel path (PWD) or abs path (torchx install dir)\n    # see: https://hydra.cc/docs/advanced/jupyter_notebooks/\n    with hydra.initialize_config_module(\n        config_module=\"torchx.examples.apps.compute_world_size.config\"\n    ):\n        cfg: DictConfig = hydra.compose(config_name=\"defaults\")\n        run(cfg)"
      ]
    }
  ],
  "metadata": {
    "kernelspec": {
      "display_name": "Python 3",
      "language": "python",
      "name": "python3"
    },
    "language_info": {
      "codemirror_mode": {
        "name": "ipython",
        "version": 3
      },
      "file_extension": ".py",
      "mimetype": "text/x-python",
      "name": "python",
      "nbconvert_exporter": "python",
      "pygments_lexer": "ipython3",
      "version": "3.10.18"
    }
  },
  "nbformat": 4,
  "nbformat_minor": 0
}