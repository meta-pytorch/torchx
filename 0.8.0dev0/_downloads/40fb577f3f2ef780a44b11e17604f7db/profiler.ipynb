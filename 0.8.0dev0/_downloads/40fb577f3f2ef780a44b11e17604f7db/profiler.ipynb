{
  "cells": [
    {
      "cell_type": "code",
      "execution_count": null,
      "metadata": {
        "collapsed": false
      },
      "outputs": [],
      "source": [
        "!pip install torchx\n!wget --no-clobber https://github.com/meta-pytorch/torchx/archive/refs/heads/main.tar.gz\n!tar xf main.tar.gz --strip-components=1\n\nNOTEBOOK = True"
      ]
    },
    {
      "cell_type": "markdown",
      "metadata": {},
      "source": [
        "\nSimple Logging Profiler\n===========================\n\nThis is a simple profiler that's used as part of the trainer app example. This\nlogs the Lightning training stage durations a logger such as Tensorboard. This\noutput is used for HPO optimization with Ax.\n"
      ]
    },
    {
      "cell_type": "code",
      "execution_count": null,
      "metadata": {
        "collapsed": false
      },
      "outputs": [],
      "source": [
        "import time\nfrom typing import Dict\n\nfrom pytorch_lightning.loggers.logger import Logger\n\nfrom pytorch_lightning.profilers.profiler import Profiler\n\n\nclass SimpleLoggingProfiler(Profiler):\n    \"\"\"\n    This profiler records the duration of actions (in seconds) and reports the\n    mean duration of each action to the specified logger. Reported metrics are\n    in the format `duration_<event>`.\n    \"\"\"\n\n    def __init__(self, logger: Logger) -> None:\n        super().__init__()\n\n        self.current_actions: Dict[str, float] = {}\n        self.logger = logger\n\n    def start(self, action_name: str) -> None:\n        if action_name in self.current_actions:\n            raise ValueError(\n                f\"Attempted to start {action_name} which has already started.\"\n            )\n        self.current_actions[action_name] = time.monotonic()\n\n    def stop(self, action_name: str) -> None:\n        end_time = time.monotonic()\n        if action_name not in self.current_actions:\n            raise ValueError(\n                f\"Attempting to stop recording an action ({action_name}) which was never started.\"\n            )\n        start_time = self.current_actions.pop(action_name)\n        duration = end_time - start_time\n        self.logger.log_metrics({\"duration_\" + action_name: duration})\n\n    def summary(self) -> str:\n        return \"\"\n\n\n# sphinx_gallery_thumbnail_path = '_static/img/gallery-lib.png'"
      ]
    }
  ],
  "metadata": {
    "kernelspec": {
      "display_name": "Python 3",
      "language": "python",
      "name": "python3"
    },
    "language_info": {
      "codemirror_mode": {
        "name": "ipython",
        "version": 3
      },
      "file_extension": ".py",
      "mimetype": "text/x-python",
      "name": "python",
      "nbconvert_exporter": "python",
      "pygments_lexer": "ipython3",
      "version": "3.10.18"
    }
  },
  "nbformat": 4,
  "nbformat_minor": 0
}